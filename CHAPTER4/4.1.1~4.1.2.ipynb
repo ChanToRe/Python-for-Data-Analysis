{
 "cells": [
  {
   "cell_type": "markdown",
   "id": "eb5b0cf7-335e-4bd4-92f5-36be276b7580",
   "metadata": {},
   "source": [
    "### 4.1 NumPy ndarray : 다차원 배열 객체\n",
    "\n",
    "#### ndarray란?\n",
    "1. N차원의 배열 객체\n",
    "2. 대규모의 데이터를 담을 수 있으며 빠르고 유연한 자료구조\n",
    "3. 같은 종류의 데이터를 담는 포괄적 다차원 배열\n",
    "- 모든 원소는 같은 자료형이어야함\n",
    "\n",
    "#### shape?\n",
    "1. 각 차원의 크기를 알려주는 튜플\n",
    "\n",
    "#### dtype?\n",
    "1. 배열에 저장된 자료형을 알려줌"
   ]
  },
  {
   "cell_type": "code",
   "execution_count": 86,
   "id": "d9a07a97-bd4c-4cff-9353-45fae060e9e3",
   "metadata": {},
   "outputs": [
    {
     "data": {
      "text/plain": [
       "array([[ 0.39021721, -0.23003977,  0.31474967],\n",
       "       [ 0.52045811,  0.14171244,  0.6672722 ]])"
      ]
     },
     "execution_count": 86,
     "metadata": {},
     "output_type": "execute_result"
    }
   ],
   "source": [
    "import numpy as np\n",
    "\n",
    "#ndarry\n",
    "data = np.random.randn(2, 3) #(2, 3)배열을 갖는 랜덤한 ndarray 생성\n",
    "data"
   ]
  },
  {
   "cell_type": "code",
   "execution_count": 87,
   "id": "5d741efe-433a-415b-9d03-e1f7cf72d614",
   "metadata": {},
   "outputs": [],
   "source": [
    "#곱셈 연산"
   ]
  },
  {
   "cell_type": "code",
   "execution_count": 88,
   "id": "cb99211d-212b-41d2-a17d-c1e2f6a94982",
   "metadata": {},
   "outputs": [
    {
     "data": {
      "text/plain": [
       "array([[ 0.78043441, -0.46007954,  0.62949934],\n",
       "       [ 1.04091621,  0.28342487,  1.33454439]])"
      ]
     },
     "execution_count": 88,
     "metadata": {},
     "output_type": "execute_result"
    }
   ],
   "source": [
    "#덧셈 연산\n",
    "data + data"
   ]
  },
  {
   "cell_type": "code",
   "execution_count": 89,
   "id": "fac00cab-cd17-4d15-8412-05e3ade2a516",
   "metadata": {},
   "outputs": [
    {
     "data": {
      "text/plain": [
       "(2, 3)"
      ]
     },
     "execution_count": 89,
     "metadata": {},
     "output_type": "execute_result"
    }
   ],
   "source": [
    "#shape\n",
    "data.shape"
   ]
  },
  {
   "cell_type": "code",
   "execution_count": 90,
   "id": "1ab0f5c7-2b98-4aaf-929a-de1f89ab3b63",
   "metadata": {},
   "outputs": [
    {
     "data": {
      "text/plain": [
       "dtype('float64')"
      ]
     },
     "execution_count": 90,
     "metadata": {},
     "output_type": "execute_result"
    }
   ],
   "source": [
    "#dtype\n",
    "data.dtype"
   ]
  },
  {
   "cell_type": "markdown",
   "id": "094e7172-9045-492f-a58b-36bee82d37ba",
   "metadata": {},
   "source": [
    "#### 4.1.1 ndarray 생성\n",
    "1. array : 입력 데이터를 ndarray로 변환\n",
    "    - 같은 길이를 가지고 있는 리스트인 경우 다차원 배열로 변환\n",
    "2. np.zeros / np.ones : 주어진 길이 혹은 모양에 각각 0, 1로 채워진 배열을 생성\n",
    "3. np.arange : 0부터 입력받은 수만큼 생성"
   ]
  },
  {
   "cell_type": "code",
   "execution_count": 91,
   "id": "6b7d6852-de52-498e-8b5c-c1c49ef17374",
   "metadata": {},
   "outputs": [
    {
     "data": {
      "text/plain": [
       "array([[1. , 2. , 3. , 4. , 5. , 6. , 2.5],\n",
       "       [2. , 5. , 6. , 2.3, 4.2, 2. , 3. ],\n",
       "       [1. , 1. , 1. , 1. , 1. , 1. , 1. ]])"
      ]
     },
     "execution_count": 91,
     "metadata": {},
     "output_type": "execute_result"
    }
   ],
   "source": [
    "data1 = [[1, 2, 3, 4, 5, 6, 2.5],[2, 5, 6, 2.3, 4.2, 2, 3],[1, 1, 1, 1, 1, 1, 1,]]\n",
    "\n",
    "arr1 = np.array(data1)\n",
    "arr1"
   ]
  },
  {
   "cell_type": "code",
   "execution_count": 92,
   "id": "ef4d6b8d-5317-405c-9784-1e23d6ce17b3",
   "metadata": {},
   "outputs": [
    {
     "data": {
      "text/plain": [
       "array([0., 0., 0., 0., 0., 0., 0., 0., 0., 0.])"
      ]
     },
     "execution_count": 92,
     "metadata": {},
     "output_type": "execute_result"
    }
   ],
   "source": [
    "np.zeros(10)"
   ]
  },
  {
   "cell_type": "code",
   "execution_count": 93,
   "id": "622232fe-63be-4213-953e-9331d1b3478a",
   "metadata": {},
   "outputs": [
    {
     "data": {
      "text/plain": [
       "array([[1., 1., 1., 1., 1.],\n",
       "       [1., 1., 1., 1., 1.],\n",
       "       [1., 1., 1., 1., 1.]])"
      ]
     },
     "execution_count": 93,
     "metadata": {},
     "output_type": "execute_result"
    }
   ],
   "source": [
    "np.ones((3, 5))"
   ]
  },
  {
   "cell_type": "code",
   "execution_count": 94,
   "id": "f90e282c-abe9-4af2-9465-bfe5e1c8de9b",
   "metadata": {},
   "outputs": [
    {
     "data": {
      "text/plain": [
       "array([[[0., 0.],\n",
       "        [0., 0.]],\n",
       "\n",
       "       [[0., 0.],\n",
       "        [0., 0.]],\n",
       "\n",
       "       [[0., 0.],\n",
       "        [0., 0.]]])"
      ]
     },
     "execution_count": 94,
     "metadata": {},
     "output_type": "execute_result"
    }
   ],
   "source": [
    "np.zeros((3, 2, 2))"
   ]
  },
  {
   "cell_type": "code",
   "execution_count": 95,
   "id": "3667b96a-062f-47a7-8b34-55b998fbc062",
   "metadata": {},
   "outputs": [
    {
     "data": {
      "text/plain": [
       "array([[2.31584178e+077, 2.31584178e+077],\n",
       "       [3.11108181e+231, 2.82466534e-309]])"
      ]
     },
     "execution_count": 95,
     "metadata": {},
     "output_type": "execute_result"
    }
   ],
   "source": [
    "np.empty((2,2))"
   ]
  },
  {
   "cell_type": "markdown",
   "id": "b36f31b8-0668-429c-8411-308cc6f383d5",
   "metadata": {},
   "source": [
    "#### 4.1.2 ndarray의 dtype\n",
    "\n",
    "1. dtype\n",
    "    - dtype은 데이터, 메타데이터를 담고 있는 객체\n",
    "    - 자료형을 지정해줄 수 있음\n",
    "\n",
    "2. astype\n",
    "    - dtype을 입력받은 자료형으로 변환"
   ]
  },
  {
   "cell_type": "code",
   "execution_count": 103,
   "id": "dfc75201-a6de-4158-82f3-b0a20f9af04f",
   "metadata": {},
   "outputs": [
    {
     "data": {
      "text/plain": [
       "dtype('float64')"
      ]
     },
     "execution_count": 103,
     "metadata": {},
     "output_type": "execute_result"
    }
   ],
   "source": [
    "arr2 = np.array([1, 2, 3], dtype=np.float64)\n",
    "arr2.dtype"
   ]
  },
  {
   "cell_type": "code",
   "execution_count": 104,
   "id": "fec83a8b-b85a-4b00-be40-568aa77573a1",
   "metadata": {},
   "outputs": [
    {
     "data": {
      "text/plain": [
       "array([1, 2, 3], dtype=int32)"
      ]
     },
     "execution_count": 104,
     "metadata": {},
     "output_type": "execute_result"
    }
   ],
   "source": [
    "arr3 = np.array([1, 2, 3], dtype=np.int32)\n",
    "arr3"
   ]
  },
  {
   "cell_type": "code",
   "execution_count": 105,
   "id": "7fa6b68a-a0a5-400e-b387-4d2e3fe36ab2",
   "metadata": {},
   "outputs": [
    {
     "data": {
      "text/plain": [
       "array([1.+0.j, 2.+0.j, 3.+0.j])"
      ]
     },
     "execution_count": 105,
     "metadata": {},
     "output_type": "execute_result"
    }
   ],
   "source": [
    "arr4 = np.array([1, 2, 3], dtype=np.complex128)\n",
    "arr4"
   ]
  },
  {
   "cell_type": "code",
   "execution_count": 106,
   "id": "5fe86c4c-54ca-4cf2-acc6-e87fe7e05197",
   "metadata": {},
   "outputs": [
    {
     "data": {
      "text/plain": [
       "array([1, 2, 3], dtype=int32)"
      ]
     },
     "execution_count": 106,
     "metadata": {},
     "output_type": "execute_result"
    }
   ],
   "source": [
    "int_arr2 = arr2.astype('int32')\n",
    "int_arr2"
   ]
  },
  {
   "cell_type": "code",
   "execution_count": 107,
   "id": "987cafce-725f-460a-bbee-5307a8427618",
   "metadata": {},
   "outputs": [
    {
     "data": {
      "text/plain": [
       "dtype('float64')"
      ]
     },
     "execution_count": 107,
     "metadata": {},
     "output_type": "execute_result"
    }
   ],
   "source": [
    "float_arr3 = arr3.astype('float64')\n",
    "float_arr3.dtype"
   ]
  },
  {
   "cell_type": "code",
   "execution_count": 108,
   "id": "4ef6c36a-3405-4a1f-ab36-9f49f191b845",
   "metadata": {},
   "outputs": [
    {
     "data": {
      "text/plain": [
       "dtype('S4')"
      ]
     },
     "execution_count": 108,
     "metadata": {},
     "output_type": "execute_result"
    }
   ],
   "source": [
    "#숫자형식 문자열을 숫자로 변환 가능\n",
    "numeric_strings = np.array(['1.25', '4.22', '6.33'], dtype=np.string_)\n",
    "numeric_strings.dtype"
   ]
  },
  {
   "cell_type": "code",
   "execution_count": 109,
   "id": "5f900dbb-0281-435b-bdbc-72d06f8609e0",
   "metadata": {},
   "outputs": [
    {
     "data": {
      "text/plain": [
       "dtype('float64')"
      ]
     },
     "execution_count": 109,
     "metadata": {},
     "output_type": "execute_result"
    }
   ],
   "source": [
    "float_numeric_strings = numeric_strings.astype('float64')\n",
    "float_numeric_strings.dtype"
   ]
  }
 ],
 "metadata": {
  "kernelspec": {
   "display_name": "Python 3 (ipykernel)",
   "language": "python",
   "name": "python3"
  },
  "language_info": {
   "codemirror_mode": {
    "name": "ipython",
    "version": 3
   },
   "file_extension": ".py",
   "mimetype": "text/x-python",
   "name": "python",
   "nbconvert_exporter": "python",
   "pygments_lexer": "ipython3",
   "version": "3.9.6"
  }
 },
 "nbformat": 4,
 "nbformat_minor": 5
}
